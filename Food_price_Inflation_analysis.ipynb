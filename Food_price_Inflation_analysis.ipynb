{
 "cells": [
  {
   "cell_type": "code",
   "execution_count": 0,
   "metadata": {
    "application/vnd.databricks.v1+cell": {
     "cellMetadata": {
      "byteLimit": 2048000,
      "rowLimit": 10000
     },
     "inputWidgets": {},
     "nuid": "d4b20b2c-83d6-48e3-aa7e-4c8bf11c65cd",
     "showTitle": false,
     "tableResultSettingsMap": {},
     "title": ""
    }
   },
   "outputs": [
    {
     "output_type": "stream",
     "name": "stdout",
     "output_type": "stream",
     "text": [
      "+------+----------+-------------+-------+----+\n|period|periodName|     seriesID|  value|year|\n+------+----------+-------------+-------+----+\n|   M08|    August|CUSR0000SAF11|314.472|2025|\n|   M07|      July|CUSR0000SAF11|312.659|2025|\n|   M06|      June|CUSR0000SAF11|313.029|2025|\n|   M05|       May|CUSR0000SAF11|312.158|2025|\n|   M04|     April|CUSR0000SAF11|311.331|2025|\n|   M03|     March|CUSR0000SAF11|312.713|2025|\n|   M02|  February|CUSR0000SAF11|311.203|2025|\n|   M01|   January|CUSR0000SAF11|311.178|2025|\n|   M12|  December|CUSR0000SAF11|309.754|2024|\n|   M11|  November|CUSR0000SAF11|308.881|2024|\n|   M10|   October|CUSR0000SAF11|307.798|2024|\n|   M09| September|CUSR0000SAF11|307.201|2024|\n|   M08|    August|CUSR0000SAF11|306.239|2024|\n|   M07|      July|CUSR0000SAF11|305.996|2024|\n|   M06|      June|CUSR0000SAF11|305.661|2024|\n|   M05|       May|CUSR0000SAF11|305.283|2024|\n|   M04|     April|CUSR0000SAF11|305.298|2024|\n|   M03|     March|CUSR0000SAF11|305.367|2024|\n|   M02|  February|CUSR0000SAF11| 305.58|2024|\n|   M01|   January|CUSR0000SAF11|305.421|2024|\n+------+----------+-------------+-------+----+\nonly showing top 20 rows\nroot\n |-- period: string (nullable = true)\n |-- periodName: string (nullable = true)\n |-- seriesID: string (nullable = true)\n |-- value: double (nullable = true)\n |-- year: string (nullable = true)\n\n+------+----------+-------------+-------+----+-----+----------+\n|period|periodName|     seriesID|  price|year|month|      date|\n+------+----------+-------------+-------+----+-----+----------+\n|   M08|    August|CUSR0000SAF11|314.472|2025|   08|2025-08-01|\n|   M07|      July|CUSR0000SAF11|312.659|2025|   07|2025-07-01|\n|   M06|      June|CUSR0000SAF11|313.029|2025|   06|2025-06-01|\n|   M05|       May|CUSR0000SAF11|312.158|2025|   05|2025-05-01|\n|   M04|     April|CUSR0000SAF11|311.331|2025|   04|2025-04-01|\n|   M03|     March|CUSR0000SAF11|312.713|2025|   03|2025-03-01|\n|   M02|  February|CUSR0000SAF11|311.203|2025|   02|2025-02-01|\n|   M01|   January|CUSR0000SAF11|311.178|2025|   01|2025-01-01|\n|   M12|  December|CUSR0000SAF11|309.754|2024|   12|2024-12-01|\n|   M11|  November|CUSR0000SAF11|308.881|2024|   11|2024-11-01|\n|   M10|   October|CUSR0000SAF11|307.798|2024|   10|2024-10-01|\n|   M09| September|CUSR0000SAF11|307.201|2024|   09|2024-09-01|\n|   M08|    August|CUSR0000SAF11|306.239|2024|   08|2024-08-01|\n|   M07|      July|CUSR0000SAF11|305.996|2024|   07|2024-07-01|\n|   M06|      June|CUSR0000SAF11|305.661|2024|   06|2024-06-01|\n|   M05|       May|CUSR0000SAF11|305.283|2024|   05|2024-05-01|\n|   M04|     April|CUSR0000SAF11|305.298|2024|   04|2024-04-01|\n|   M03|     March|CUSR0000SAF11|305.367|2024|   03|2024-03-01|\n|   M02|  February|CUSR0000SAF11| 305.58|2024|   02|2024-02-01|\n|   M01|   January|CUSR0000SAF11|305.421|2024|   01|2024-01-01|\n+------+----------+-------------+-------+----+-----+----------+\nonly showing top 20 rows\n+------+----------+-------------+-------+----+-----+----------+----------+----------+\n|period|periodName|     seriesID|  price|year|month|      date|prev_price|pct_change|\n+------+----------+-------------+-------+----+-----+----------+----------+----------+\n|   M01|   January|CUSR0000SAF11|271.278|2022|   01|2022-01-01|      NULL|      NULL|\n|   M02|  February|CUSR0000SAF11|274.848|2022|   02|2022-02-01|   271.278|      1.32|\n|   M03|     March|CUSR0000SAF11|278.588|2022|   03|2022-03-01|   274.848|      1.36|\n|   M04|     April|CUSR0000SAF11|281.629|2022|   04|2022-04-01|   278.588|      1.09|\n|   M05|       May|CUSR0000SAF11|285.414|2022|   05|2022-05-01|   281.629|      1.34|\n|   M06|      June|CUSR0000SAF11|288.583|2022|   06|2022-06-01|   285.414|      1.11|\n|   M07|      July|CUSR0000SAF11|292.287|2022|   07|2022-07-01|   288.583|      1.28|\n|   M08|    August|CUSR0000SAF11|294.799|2022|   08|2022-08-01|   292.287|      0.86|\n|   M09| September|CUSR0000SAF11|296.302|2022|   09|2022-09-01|   294.799|      0.51|\n|   M10|   October|CUSR0000SAF11|297.943|2022|   10|2022-10-01|   296.302|      0.55|\n|   M11|  November|CUSR0000SAF11|299.267|2022|   11|2022-11-01|   297.943|      0.44|\n|   M12|  December|CUSR0000SAF11|300.553|2022|   12|2022-12-01|   299.267|      0.43|\n|   M01|   January|CUSR0000SAF11|301.853|2023|   01|2023-01-01|   300.553|      0.43|\n|   M02|  February|CUSR0000SAF11|302.603|2023|   02|2023-02-01|   301.853|      0.25|\n|   M03|     March|CUSR0000SAF11|301.822|2023|   03|2023-03-01|   302.603|     -0.26|\n|   M04|     April|CUSR0000SAF11|301.806|2023|   04|2023-04-01|   301.822|     -0.01|\n|   M05|       May|CUSR0000SAF11|302.072|2023|   05|2023-05-01|   301.806|      0.09|\n|   M06|      June|CUSR0000SAF11|302.116|2023|   06|2023-06-01|   302.072|      0.01|\n|   M07|      July|CUSR0000SAF11|302.757|2023|   07|2023-07-01|   302.116|      0.21|\n|   M08|    August|CUSR0000SAF11|303.506|2023|   08|2023-08-01|   302.757|      0.25|\n+------+----------+-------------+-------+----+-----+----------+----------+----------+\nonly showing top 20 rows\n+------+----------+-------------+-------+----+-----+----------+----------+----------+\n|period|periodName|     seriesID|  price|year|month|      date|prev_price|pct_change|\n+------+----------+-------------+-------+----+-----+----------+----------+----------+\n|   M03|     March|CUSR0000SAF11|278.588|2022|   03|2022-03-01|   274.848|      1.36|\n|   M05|       May|CUSR0000SAF11|285.414|2022|   05|2022-05-01|   281.629|      1.34|\n|   M02|  February|CUSR0000SAF11|274.848|2022|   02|2022-02-01|   271.278|      1.32|\n|   M07|      July|CUSR0000SAF11|292.287|2022|   07|2022-07-01|   288.583|      1.28|\n|   M06|      June|CUSR0000SAF11|288.583|2022|   06|2022-06-01|   285.414|      1.11|\n|   M04|     April|CUSR0000SAF11|281.629|2022|   04|2022-04-01|   278.588|      1.09|\n|   M08|    August|CUSR0000SAF11|294.799|2022|   08|2022-08-01|   292.287|      0.86|\n|   M08|    August|CUSR0000SAF11|314.472|2025|   08|2025-08-01|   312.659|      0.58|\n|   M10|   October|CUSR0000SAF11|297.943|2022|   10|2022-10-01|   296.302|      0.55|\n|   M09| September|CUSR0000SAF11|296.302|2022|   09|2022-09-01|   294.799|      0.51|\n+------+----------+-------------+-------+----+-----+----------+----------+----------+\nonly showing top 10 rows\n"
     ]
    },
    {
     "output_type": "display_data",
     "data": {
      "text/html": [
       "<style scoped>\n",
       "  .table-result-container {\n",
       "    max-height: 300px;\n",
       "    overflow: auto;\n",
       "  }\n",
       "  table, th, td {\n",
       "    border: 1px solid black;\n",
       "    border-collapse: collapse;\n",
       "  }\n",
       "  th, td {\n",
       "    padding: 5px;\n",
       "  }\n",
       "  th {\n",
       "    text-align: left;\n",
       "  }\n",
       "</style><div class='table-result-container'><table class='table-result'><thead style='background-color: white'><tr><th>period</th><th>periodName</th><th>seriesID</th><th>price</th><th>year</th><th>month</th><th>date</th><th>prev_price</th><th>pct_change</th></tr></thead><tbody><tr><td>M01</td><td>January</td><td>CUSR0000SAF11</td><td>271.278</td><td>2022</td><td>01</td><td>2022-01-01</td><td>null</td><td>0.0</td></tr><tr><td>M02</td><td>February</td><td>CUSR0000SAF11</td><td>274.848</td><td>2022</td><td>02</td><td>2022-02-01</td><td>271.278</td><td>1.32</td></tr><tr><td>M03</td><td>March</td><td>CUSR0000SAF11</td><td>278.588</td><td>2022</td><td>03</td><td>2022-03-01</td><td>274.848</td><td>1.36</td></tr><tr><td>M04</td><td>April</td><td>CUSR0000SAF11</td><td>281.629</td><td>2022</td><td>04</td><td>2022-04-01</td><td>278.588</td><td>1.09</td></tr><tr><td>M05</td><td>May</td><td>CUSR0000SAF11</td><td>285.414</td><td>2022</td><td>05</td><td>2022-05-01</td><td>281.629</td><td>1.34</td></tr><tr><td>M06</td><td>June</td><td>CUSR0000SAF11</td><td>288.583</td><td>2022</td><td>06</td><td>2022-06-01</td><td>285.414</td><td>1.11</td></tr><tr><td>M07</td><td>July</td><td>CUSR0000SAF11</td><td>292.287</td><td>2022</td><td>07</td><td>2022-07-01</td><td>288.583</td><td>1.28</td></tr><tr><td>M08</td><td>August</td><td>CUSR0000SAF11</td><td>294.799</td><td>2022</td><td>08</td><td>2022-08-01</td><td>292.287</td><td>0.86</td></tr><tr><td>M09</td><td>September</td><td>CUSR0000SAF11</td><td>296.302</td><td>2022</td><td>09</td><td>2022-09-01</td><td>294.799</td><td>0.51</td></tr><tr><td>M10</td><td>October</td><td>CUSR0000SAF11</td><td>297.943</td><td>2022</td><td>10</td><td>2022-10-01</td><td>296.302</td><td>0.55</td></tr><tr><td>M11</td><td>November</td><td>CUSR0000SAF11</td><td>299.267</td><td>2022</td><td>11</td><td>2022-11-01</td><td>297.943</td><td>0.44</td></tr><tr><td>M12</td><td>December</td><td>CUSR0000SAF11</td><td>300.553</td><td>2022</td><td>12</td><td>2022-12-01</td><td>299.267</td><td>0.43</td></tr><tr><td>M01</td><td>January</td><td>CUSR0000SAF11</td><td>301.853</td><td>2023</td><td>01</td><td>2023-01-01</td><td>300.553</td><td>0.43</td></tr><tr><td>M02</td><td>February</td><td>CUSR0000SAF11</td><td>302.603</td><td>2023</td><td>02</td><td>2023-02-01</td><td>301.853</td><td>0.25</td></tr><tr><td>M03</td><td>March</td><td>CUSR0000SAF11</td><td>301.822</td><td>2023</td><td>03</td><td>2023-03-01</td><td>302.603</td><td>-0.26</td></tr><tr><td>M04</td><td>April</td><td>CUSR0000SAF11</td><td>301.806</td><td>2023</td><td>04</td><td>2023-04-01</td><td>301.822</td><td>-0.01</td></tr><tr><td>M05</td><td>May</td><td>CUSR0000SAF11</td><td>302.072</td><td>2023</td><td>05</td><td>2023-05-01</td><td>301.806</td><td>0.09</td></tr><tr><td>M06</td><td>June</td><td>CUSR0000SAF11</td><td>302.116</td><td>2023</td><td>06</td><td>2023-06-01</td><td>302.072</td><td>0.01</td></tr><tr><td>M07</td><td>July</td><td>CUSR0000SAF11</td><td>302.757</td><td>2023</td><td>07</td><td>2023-07-01</td><td>302.116</td><td>0.21</td></tr><tr><td>M08</td><td>August</td><td>CUSR0000SAF11</td><td>303.506</td><td>2023</td><td>08</td><td>2023-08-01</td><td>302.757</td><td>0.25</td></tr><tr><td>M09</td><td>September</td><td>CUSR0000SAF11</td><td>303.382</td><td>2023</td><td>09</td><td>2023-09-01</td><td>303.506</td><td>-0.04</td></tr><tr><td>M10</td><td>October</td><td>CUSR0000SAF11</td><td>304.339</td><td>2023</td><td>10</td><td>2023-10-01</td><td>303.382</td><td>0.32</td></tr><tr><td>M11</td><td>November</td><td>CUSR0000SAF11</td><td>304.154</td><td>2023</td><td>11</td><td>2023-11-01</td><td>304.339</td><td>-0.06</td></tr><tr><td>M12</td><td>December</td><td>CUSR0000SAF11</td><td>304.517</td><td>2023</td><td>12</td><td>2023-12-01</td><td>304.154</td><td>0.12</td></tr><tr><td>M01</td><td>January</td><td>CUSR0000SAF11</td><td>305.421</td><td>2024</td><td>01</td><td>2024-01-01</td><td>304.517</td><td>0.3</td></tr><tr><td>M02</td><td>February</td><td>CUSR0000SAF11</td><td>305.58</td><td>2024</td><td>02</td><td>2024-02-01</td><td>305.421</td><td>0.05</td></tr><tr><td>M03</td><td>March</td><td>CUSR0000SAF11</td><td>305.367</td><td>2024</td><td>03</td><td>2024-03-01</td><td>305.58</td><td>-0.07</td></tr><tr><td>M04</td><td>April</td><td>CUSR0000SAF11</td><td>305.298</td><td>2024</td><td>04</td><td>2024-04-01</td><td>305.367</td><td>-0.02</td></tr><tr><td>M05</td><td>May</td><td>CUSR0000SAF11</td><td>305.283</td><td>2024</td><td>05</td><td>2024-05-01</td><td>305.298</td><td>0.0</td></tr><tr><td>M06</td><td>June</td><td>CUSR0000SAF11</td><td>305.661</td><td>2024</td><td>06</td><td>2024-06-01</td><td>305.283</td><td>0.12</td></tr><tr><td>M07</td><td>July</td><td>CUSR0000SAF11</td><td>305.996</td><td>2024</td><td>07</td><td>2024-07-01</td><td>305.661</td><td>0.11</td></tr><tr><td>M08</td><td>August</td><td>CUSR0000SAF11</td><td>306.239</td><td>2024</td><td>08</td><td>2024-08-01</td><td>305.996</td><td>0.08</td></tr><tr><td>M09</td><td>September</td><td>CUSR0000SAF11</td><td>307.201</td><td>2024</td><td>09</td><td>2024-09-01</td><td>306.239</td><td>0.31</td></tr><tr><td>M10</td><td>October</td><td>CUSR0000SAF11</td><td>307.798</td><td>2024</td><td>10</td><td>2024-10-01</td><td>307.201</td><td>0.19</td></tr><tr><td>M11</td><td>November</td><td>CUSR0000SAF11</td><td>308.881</td><td>2024</td><td>11</td><td>2024-11-01</td><td>307.798</td><td>0.35</td></tr><tr><td>M12</td><td>December</td><td>CUSR0000SAF11</td><td>309.754</td><td>2024</td><td>12</td><td>2024-12-01</td><td>308.881</td><td>0.28</td></tr><tr><td>M01</td><td>January</td><td>CUSR0000SAF11</td><td>311.178</td><td>2025</td><td>01</td><td>2025-01-01</td><td>309.754</td><td>0.46</td></tr><tr><td>M02</td><td>February</td><td>CUSR0000SAF11</td><td>311.203</td><td>2025</td><td>02</td><td>2025-02-01</td><td>311.178</td><td>0.01</td></tr><tr><td>M03</td><td>March</td><td>CUSR0000SAF11</td><td>312.713</td><td>2025</td><td>03</td><td>2025-03-01</td><td>311.203</td><td>0.49</td></tr><tr><td>M04</td><td>April</td><td>CUSR0000SAF11</td><td>311.331</td><td>2025</td><td>04</td><td>2025-04-01</td><td>312.713</td><td>-0.44</td></tr><tr><td>M05</td><td>May</td><td>CUSR0000SAF11</td><td>312.158</td><td>2025</td><td>05</td><td>2025-05-01</td><td>311.331</td><td>0.27</td></tr><tr><td>M06</td><td>June</td><td>CUSR0000SAF11</td><td>313.029</td><td>2025</td><td>06</td><td>2025-06-01</td><td>312.158</td><td>0.28</td></tr><tr><td>M07</td><td>July</td><td>CUSR0000SAF11</td><td>312.659</td><td>2025</td><td>07</td><td>2025-07-01</td><td>313.029</td><td>-0.12</td></tr><tr><td>M08</td><td>August</td><td>CUSR0000SAF11</td><td>314.472</td><td>2025</td><td>08</td><td>2025-08-01</td><td>312.659</td><td>0.58</td></tr></tbody></table></div>"
      ]
     },
     "metadata": {
      "application/vnd.databricks.v1+output": {
       "addedWidgets": {},
       "aggData": [],
       "aggError": "",
       "aggOverflow": false,
       "aggSchema": [],
       "aggSeriesLimitReached": false,
       "aggType": "",
       "arguments": {},
       "columnCustomDisplayInfos": {},
       "data": [
        [
         "M01",
         "January",
         "CUSR0000SAF11",
         271.278,
         "2022",
         "01",
         "2022-01-01",
         null,
         0.0
        ],
        [
         "M02",
         "February",
         "CUSR0000SAF11",
         274.848,
         "2022",
         "02",
         "2022-02-01",
         271.278,
         1.32
        ],
        [
         "M03",
         "March",
         "CUSR0000SAF11",
         278.588,
         "2022",
         "03",
         "2022-03-01",
         274.848,
         1.36
        ],
        [
         "M04",
         "April",
         "CUSR0000SAF11",
         281.629,
         "2022",
         "04",
         "2022-04-01",
         278.588,
         1.09
        ],
        [
         "M05",
         "May",
         "CUSR0000SAF11",
         285.414,
         "2022",
         "05",
         "2022-05-01",
         281.629,
         1.34
        ],
        [
         "M06",
         "June",
         "CUSR0000SAF11",
         288.583,
         "2022",
         "06",
         "2022-06-01",
         285.414,
         1.11
        ],
        [
         "M07",
         "July",
         "CUSR0000SAF11",
         292.287,
         "2022",
         "07",
         "2022-07-01",
         288.583,
         1.28
        ],
        [
         "M08",
         "August",
         "CUSR0000SAF11",
         294.799,
         "2022",
         "08",
         "2022-08-01",
         292.287,
         0.86
        ],
        [
         "M09",
         "September",
         "CUSR0000SAF11",
         296.302,
         "2022",
         "09",
         "2022-09-01",
         294.799,
         0.51
        ],
        [
         "M10",
         "October",
         "CUSR0000SAF11",
         297.943,
         "2022",
         "10",
         "2022-10-01",
         296.302,
         0.55
        ],
        [
         "M11",
         "November",
         "CUSR0000SAF11",
         299.267,
         "2022",
         "11",
         "2022-11-01",
         297.943,
         0.44
        ],
        [
         "M12",
         "December",
         "CUSR0000SAF11",
         300.553,
         "2022",
         "12",
         "2022-12-01",
         299.267,
         0.43
        ],
        [
         "M01",
         "January",
         "CUSR0000SAF11",
         301.853,
         "2023",
         "01",
         "2023-01-01",
         300.553,
         0.43
        ],
        [
         "M02",
         "February",
         "CUSR0000SAF11",
         302.603,
         "2023",
         "02",
         "2023-02-01",
         301.853,
         0.25
        ],
        [
         "M03",
         "March",
         "CUSR0000SAF11",
         301.822,
         "2023",
         "03",
         "2023-03-01",
         302.603,
         -0.26
        ],
        [
         "M04",
         "April",
         "CUSR0000SAF11",
         301.806,
         "2023",
         "04",
         "2023-04-01",
         301.822,
         -0.01
        ],
        [
         "M05",
         "May",
         "CUSR0000SAF11",
         302.072,
         "2023",
         "05",
         "2023-05-01",
         301.806,
         0.09
        ],
        [
         "M06",
         "June",
         "CUSR0000SAF11",
         302.116,
         "2023",
         "06",
         "2023-06-01",
         302.072,
         0.01
        ],
        [
         "M07",
         "July",
         "CUSR0000SAF11",
         302.757,
         "2023",
         "07",
         "2023-07-01",
         302.116,
         0.21
        ],
        [
         "M08",
         "August",
         "CUSR0000SAF11",
         303.506,
         "2023",
         "08",
         "2023-08-01",
         302.757,
         0.25
        ],
        [
         "M09",
         "September",
         "CUSR0000SAF11",
         303.382,
         "2023",
         "09",
         "2023-09-01",
         303.506,
         -0.04
        ],
        [
         "M10",
         "October",
         "CUSR0000SAF11",
         304.339,
         "2023",
         "10",
         "2023-10-01",
         303.382,
         0.32
        ],
        [
         "M11",
         "November",
         "CUSR0000SAF11",
         304.154,
         "2023",
         "11",
         "2023-11-01",
         304.339,
         -0.06
        ],
        [
         "M12",
         "December",
         "CUSR0000SAF11",
         304.517,
         "2023",
         "12",
         "2023-12-01",
         304.154,
         0.12
        ],
        [
         "M01",
         "January",
         "CUSR0000SAF11",
         305.421,
         "2024",
         "01",
         "2024-01-01",
         304.517,
         0.3
        ],
        [
         "M02",
         "February",
         "CUSR0000SAF11",
         305.58,
         "2024",
         "02",
         "2024-02-01",
         305.421,
         0.05
        ],
        [
         "M03",
         "March",
         "CUSR0000SAF11",
         305.367,
         "2024",
         "03",
         "2024-03-01",
         305.58,
         -0.07
        ],
        [
         "M04",
         "April",
         "CUSR0000SAF11",
         305.298,
         "2024",
         "04",
         "2024-04-01",
         305.367,
         -0.02
        ],
        [
         "M05",
         "May",
         "CUSR0000SAF11",
         305.283,
         "2024",
         "05",
         "2024-05-01",
         305.298,
         0.0
        ],
        [
         "M06",
         "June",
         "CUSR0000SAF11",
         305.661,
         "2024",
         "06",
         "2024-06-01",
         305.283,
         0.12
        ],
        [
         "M07",
         "July",
         "CUSR0000SAF11",
         305.996,
         "2024",
         "07",
         "2024-07-01",
         305.661,
         0.11
        ],
        [
         "M08",
         "August",
         "CUSR0000SAF11",
         306.239,
         "2024",
         "08",
         "2024-08-01",
         305.996,
         0.08
        ],
        [
         "M09",
         "September",
         "CUSR0000SAF11",
         307.201,
         "2024",
         "09",
         "2024-09-01",
         306.239,
         0.31
        ],
        [
         "M10",
         "October",
         "CUSR0000SAF11",
         307.798,
         "2024",
         "10",
         "2024-10-01",
         307.201,
         0.19
        ],
        [
         "M11",
         "November",
         "CUSR0000SAF11",
         308.881,
         "2024",
         "11",
         "2024-11-01",
         307.798,
         0.35
        ],
        [
         "M12",
         "December",
         "CUSR0000SAF11",
         309.754,
         "2024",
         "12",
         "2024-12-01",
         308.881,
         0.28
        ],
        [
         "M01",
         "January",
         "CUSR0000SAF11",
         311.178,
         "2025",
         "01",
         "2025-01-01",
         309.754,
         0.46
        ],
        [
         "M02",
         "February",
         "CUSR0000SAF11",
         311.203,
         "2025",
         "02",
         "2025-02-01",
         311.178,
         0.01
        ],
        [
         "M03",
         "March",
         "CUSR0000SAF11",
         312.713,
         "2025",
         "03",
         "2025-03-01",
         311.203,
         0.49
        ],
        [
         "M04",
         "April",
         "CUSR0000SAF11",
         311.331,
         "2025",
         "04",
         "2025-04-01",
         312.713,
         -0.44
        ],
        [
         "M05",
         "May",
         "CUSR0000SAF11",
         312.158,
         "2025",
         "05",
         "2025-05-01",
         311.331,
         0.27
        ],
        [
         "M06",
         "June",
         "CUSR0000SAF11",
         313.029,
         "2025",
         "06",
         "2025-06-01",
         312.158,
         0.28
        ],
        [
         "M07",
         "July",
         "CUSR0000SAF11",
         312.659,
         "2025",
         "07",
         "2025-07-01",
         313.029,
         -0.12
        ],
        [
         "M08",
         "August",
         "CUSR0000SAF11",
         314.472,
         "2025",
         "08",
         "2025-08-01",
         312.659,
         0.58
        ]
       ],
       "datasetInfos": [],
       "dbfsResultPath": null,
       "isJsonSchema": true,
       "metadata": {},
       "overflow": false,
       "plotOptions": {
        "customPlotOptions": {},
        "displayType": "table",
        "pivotAggregation": null,
        "pivotColumns": null,
        "xColumns": null,
        "yColumns": null
       },
       "removedWidgets": [],
       "schema": [
        {
         "metadata": "{}",
         "name": "period",
         "type": "\"string\""
        },
        {
         "metadata": "{}",
         "name": "periodName",
         "type": "\"string\""
        },
        {
         "metadata": "{}",
         "name": "seriesID",
         "type": "\"string\""
        },
        {
         "metadata": "{}",
         "name": "price",
         "type": "\"double\""
        },
        {
         "metadata": "{}",
         "name": "year",
         "type": "\"string\""
        },
        {
         "metadata": "{}",
         "name": "month",
         "type": "\"string\""
        },
        {
         "metadata": "{}",
         "name": "date",
         "type": "\"date\""
        },
        {
         "metadata": "{}",
         "name": "prev_price",
         "type": "\"double\""
        },
        {
         "metadata": "{}",
         "name": "pct_change",
         "type": "\"double\""
        }
       ],
       "type": "table"
      }
     },
     "output_type": "display_data"
    },
    {
     "output_type": "display_data",
     "data": {
      "text/html": [
       "<style scoped>\n",
       "  .table-result-container {\n",
       "    max-height: 300px;\n",
       "    overflow: auto;\n",
       "  }\n",
       "  table, th, td {\n",
       "    border: 1px solid black;\n",
       "    border-collapse: collapse;\n",
       "  }\n",
       "  th, td {\n",
       "    padding: 5px;\n",
       "  }\n",
       "  th {\n",
       "    text-align: left;\n",
       "  }\n",
       "</style><div class='table-result-container'><table class='table-result'><thead style='background-color: white'><tr><th>seriesID</th><th>year</th><th>avg_price</th></tr></thead><tbody><tr><td>CUSR0000SAF11</td><td>2022</td><td>288.46</td></tr><tr><td>CUSR0000SAF11</td><td>2023</td><td>302.91</td></tr><tr><td>CUSR0000SAF11</td><td>2024</td><td>306.54</td></tr><tr><td>CUSR0000SAF11</td><td>2025</td><td>312.34</td></tr></tbody></table></div>"
      ]
     },
     "metadata": {
      "application/vnd.databricks.v1+output": {
       "addedWidgets": {},
       "aggData": [],
       "aggError": "",
       "aggOverflow": false,
       "aggSchema": [],
       "aggSeriesLimitReached": false,
       "aggType": "",
       "arguments": {},
       "columnCustomDisplayInfos": {},
       "data": [
        [
         "CUSR0000SAF11",
         "2022",
         288.46
        ],
        [
         "CUSR0000SAF11",
         "2023",
         302.91
        ],
        [
         "CUSR0000SAF11",
         "2024",
         306.54
        ],
        [
         "CUSR0000SAF11",
         "2025",
         312.34
        ]
       ],
       "datasetInfos": [],
       "dbfsResultPath": null,
       "isJsonSchema": true,
       "metadata": {},
       "overflow": false,
       "plotOptions": {
        "customPlotOptions": {},
        "displayType": "table",
        "pivotAggregation": null,
        "pivotColumns": null,
        "xColumns": null,
        "yColumns": null
       },
       "removedWidgets": [],
       "schema": [
        {
         "metadata": "{}",
         "name": "seriesID",
         "type": "\"string\""
        },
        {
         "metadata": "{}",
         "name": "year",
         "type": "\"string\""
        },
        {
         "metadata": "{}",
         "name": "avg_price",
         "type": "\"double\""
        }
       ],
       "type": "table"
      }
     },
     "output_type": "display_data"
    },
    {
     "output_type": "display_data",
     "data": {
      "text/html": [
       "<style scoped>\n",
       "  .table-result-container {\n",
       "    max-height: 300px;\n",
       "    overflow: auto;\n",
       "  }\n",
       "  table, th, td {\n",
       "    border: 1px solid black;\n",
       "    border-collapse: collapse;\n",
       "  }\n",
       "  th, td {\n",
       "    padding: 5px;\n",
       "  }\n",
       "  th {\n",
       "    text-align: left;\n",
       "  }\n",
       "</style><div class='table-result-container'><table class='table-result'><thead style='background-color: white'><tr><th>seriesID</th><th>year</th><th>avg_monthly_inflation</th></tr></thead><tbody><tr><td>CUSR0000SAF11</td><td>2022</td><td>0.86</td></tr><tr><td>CUSR0000SAF11</td><td>2023</td><td>0.11</td></tr><tr><td>CUSR0000SAF11</td><td>2024</td><td>0.14</td></tr><tr><td>CUSR0000SAF11</td><td>2025</td><td>0.19</td></tr></tbody></table></div>"
      ]
     },
     "metadata": {
      "application/vnd.databricks.v1+output": {
       "addedWidgets": {},
       "aggData": [],
       "aggError": "",
       "aggOverflow": false,
       "aggSchema": [],
       "aggSeriesLimitReached": false,
       "aggType": "",
       "arguments": {},
       "columnCustomDisplayInfos": {},
       "data": [
        [
         "CUSR0000SAF11",
         "2022",
         0.86
        ],
        [
         "CUSR0000SAF11",
         "2023",
         0.11
        ],
        [
         "CUSR0000SAF11",
         "2024",
         0.14
        ],
        [
         "CUSR0000SAF11",
         "2025",
         0.19
        ]
       ],
       "datasetInfos": [],
       "dbfsResultPath": null,
       "isJsonSchema": true,
       "metadata": {},
       "overflow": false,
       "plotOptions": {
        "customPlotOptions": {},
        "displayType": "table",
        "pivotAggregation": null,
        "pivotColumns": null,
        "xColumns": null,
        "yColumns": null
       },
       "removedWidgets": [],
       "schema": [
        {
         "metadata": "{}",
         "name": "seriesID",
         "type": "\"string\""
        },
        {
         "metadata": "{}",
         "name": "year",
         "type": "\"string\""
        },
        {
         "metadata": "{}",
         "name": "avg_monthly_inflation",
         "type": "\"double\""
        }
       ],
       "type": "table"
      }
     },
     "output_type": "display_data"
    },
    {
     "output_type": "display_data",
     "data": {
      "text/html": [
       "<style scoped>\n",
       "  .table-result-container {\n",
       "    max-height: 300px;\n",
       "    overflow: auto;\n",
       "  }\n",
       "  table, th, td {\n",
       "    border: 1px solid black;\n",
       "    border-collapse: collapse;\n",
       "  }\n",
       "  th, td {\n",
       "    padding: 5px;\n",
       "  }\n",
       "  th {\n",
       "    text-align: left;\n",
       "  }\n",
       "</style><div class='table-result-container'><table class='table-result'><thead style='background-color: white'><tr><th>period</th><th>periodName</th><th>seriesID</th><th>price</th><th>year</th><th>month</th><th>date</th><th>prev_price</th><th>pct_change</th><th>rank</th></tr></thead><tbody><tr><td>M03</td><td>March</td><td>CUSR0000SAF11</td><td>278.588</td><td>2022</td><td>03</td><td>2022-03-01</td><td>274.848</td><td>1.36</td><td>1</td></tr><tr><td>M05</td><td>May</td><td>CUSR0000SAF11</td><td>285.414</td><td>2022</td><td>05</td><td>2022-05-01</td><td>281.629</td><td>1.34</td><td>2</td></tr><tr><td>M02</td><td>February</td><td>CUSR0000SAF11</td><td>274.848</td><td>2022</td><td>02</td><td>2022-02-01</td><td>271.278</td><td>1.32</td><td>3</td></tr><tr><td>M01</td><td>January</td><td>CUSR0000SAF11</td><td>301.853</td><td>2023</td><td>01</td><td>2023-01-01</td><td>300.553</td><td>0.43</td><td>1</td></tr><tr><td>M10</td><td>October</td><td>CUSR0000SAF11</td><td>304.339</td><td>2023</td><td>10</td><td>2023-10-01</td><td>303.382</td><td>0.32</td><td>2</td></tr><tr><td>M02</td><td>February</td><td>CUSR0000SAF11</td><td>302.603</td><td>2023</td><td>02</td><td>2023-02-01</td><td>301.853</td><td>0.25</td><td>3</td></tr><tr><td>M08</td><td>August</td><td>CUSR0000SAF11</td><td>303.506</td><td>2023</td><td>08</td><td>2023-08-01</td><td>302.757</td><td>0.25</td><td>3</td></tr><tr><td>M11</td><td>November</td><td>CUSR0000SAF11</td><td>308.881</td><td>2024</td><td>11</td><td>2024-11-01</td><td>307.798</td><td>0.35</td><td>1</td></tr><tr><td>M09</td><td>September</td><td>CUSR0000SAF11</td><td>307.201</td><td>2024</td><td>09</td><td>2024-09-01</td><td>306.239</td><td>0.31</td><td>2</td></tr><tr><td>M01</td><td>January</td><td>CUSR0000SAF11</td><td>305.421</td><td>2024</td><td>01</td><td>2024-01-01</td><td>304.517</td><td>0.3</td><td>3</td></tr><tr><td>M08</td><td>August</td><td>CUSR0000SAF11</td><td>314.472</td><td>2025</td><td>08</td><td>2025-08-01</td><td>312.659</td><td>0.58</td><td>1</td></tr><tr><td>M03</td><td>March</td><td>CUSR0000SAF11</td><td>312.713</td><td>2025</td><td>03</td><td>2025-03-01</td><td>311.203</td><td>0.49</td><td>2</td></tr><tr><td>M01</td><td>January</td><td>CUSR0000SAF11</td><td>311.178</td><td>2025</td><td>01</td><td>2025-01-01</td><td>309.754</td><td>0.46</td><td>3</td></tr></tbody></table></div>"
      ]
     },
     "metadata": {
      "application/vnd.databricks.v1+output": {
       "addedWidgets": {},
       "aggData": [],
       "aggError": "",
       "aggOverflow": false,
       "aggSchema": [],
       "aggSeriesLimitReached": false,
       "aggType": "",
       "arguments": {},
       "columnCustomDisplayInfos": {},
       "data": [
        [
         "M03",
         "March",
         "CUSR0000SAF11",
         278.588,
         "2022",
         "03",
         "2022-03-01",
         274.848,
         1.36,
         1
        ],
        [
         "M05",
         "May",
         "CUSR0000SAF11",
         285.414,
         "2022",
         "05",
         "2022-05-01",
         281.629,
         1.34,
         2
        ],
        [
         "M02",
         "February",
         "CUSR0000SAF11",
         274.848,
         "2022",
         "02",
         "2022-02-01",
         271.278,
         1.32,
         3
        ],
        [
         "M01",
         "January",
         "CUSR0000SAF11",
         301.853,
         "2023",
         "01",
         "2023-01-01",
         300.553,
         0.43,
         1
        ],
        [
         "M10",
         "October",
         "CUSR0000SAF11",
         304.339,
         "2023",
         "10",
         "2023-10-01",
         303.382,
         0.32,
         2
        ],
        [
         "M02",
         "February",
         "CUSR0000SAF11",
         302.603,
         "2023",
         "02",
         "2023-02-01",
         301.853,
         0.25,
         3
        ],
        [
         "M08",
         "August",
         "CUSR0000SAF11",
         303.506,
         "2023",
         "08",
         "2023-08-01",
         302.757,
         0.25,
         3
        ],
        [
         "M11",
         "November",
         "CUSR0000SAF11",
         308.881,
         "2024",
         "11",
         "2024-11-01",
         307.798,
         0.35,
         1
        ],
        [
         "M09",
         "September",
         "CUSR0000SAF11",
         307.201,
         "2024",
         "09",
         "2024-09-01",
         306.239,
         0.31,
         2
        ],
        [
         "M01",
         "January",
         "CUSR0000SAF11",
         305.421,
         "2024",
         "01",
         "2024-01-01",
         304.517,
         0.3,
         3
        ],
        [
         "M08",
         "August",
         "CUSR0000SAF11",
         314.472,
         "2025",
         "08",
         "2025-08-01",
         312.659,
         0.58,
         1
        ],
        [
         "M03",
         "March",
         "CUSR0000SAF11",
         312.713,
         "2025",
         "03",
         "2025-03-01",
         311.203,
         0.49,
         2
        ],
        [
         "M01",
         "January",
         "CUSR0000SAF11",
         311.178,
         "2025",
         "01",
         "2025-01-01",
         309.754,
         0.46,
         3
        ]
       ],
       "datasetInfos": [],
       "dbfsResultPath": null,
       "isJsonSchema": true,
       "metadata": {},
       "overflow": false,
       "plotOptions": {
        "customPlotOptions": {},
        "displayType": "table",
        "pivotAggregation": null,
        "pivotColumns": null,
        "xColumns": null,
        "yColumns": null
       },
       "removedWidgets": [],
       "schema": [
        {
         "metadata": "{}",
         "name": "period",
         "type": "\"string\""
        },
        {
         "metadata": "{}",
         "name": "periodName",
         "type": "\"string\""
        },
        {
         "metadata": "{}",
         "name": "seriesID",
         "type": "\"string\""
        },
        {
         "metadata": "{}",
         "name": "price",
         "type": "\"double\""
        },
        {
         "metadata": "{}",
         "name": "year",
         "type": "\"string\""
        },
        {
         "metadata": "{}",
         "name": "month",
         "type": "\"string\""
        },
        {
         "metadata": "{}",
         "name": "date",
         "type": "\"date\""
        },
        {
         "metadata": "{}",
         "name": "prev_price",
         "type": "\"double\""
        },
        {
         "metadata": "{}",
         "name": "pct_change",
         "type": "\"double\""
        },
        {
         "metadata": "{}",
         "name": "rank",
         "type": "\"integer\""
        }
       ],
       "type": "table"
      }
     },
     "output_type": "display_data"
    },
    {
     "output_type": "display_data",
     "data": {
      "text/html": [
       "<style scoped>\n",
       "  .table-result-container {\n",
       "    max-height: 300px;\n",
       "    overflow: auto;\n",
       "  }\n",
       "  table, th, td {\n",
       "    border: 1px solid black;\n",
       "    border-collapse: collapse;\n",
       "  }\n",
       "  th, td {\n",
       "    padding: 5px;\n",
       "  }\n",
       "  th {\n",
       "    text-align: left;\n",
       "  }\n",
       "</style><div class='table-result-container'><table class='table-result'><thead style='background-color: white'><tr><th>seriesID</th><th>year</th><th>avg_price</th><th>prev_year_avg</th><th>yoy_growth</th></tr></thead><tbody><tr><td>CUSR0000SAF11</td><td>2022</td><td>288.46</td><td>null</td><td>null</td></tr><tr><td>CUSR0000SAF11</td><td>2023</td><td>302.91</td><td>288.46</td><td>5.01</td></tr><tr><td>CUSR0000SAF11</td><td>2024</td><td>306.54</td><td>302.91</td><td>1.2</td></tr><tr><td>CUSR0000SAF11</td><td>2025</td><td>312.34</td><td>306.54</td><td>1.89</td></tr></tbody></table></div>"
      ]
     },
     "metadata": {
      "application/vnd.databricks.v1+output": {
       "addedWidgets": {},
       "aggData": [],
       "aggError": "",
       "aggOverflow": false,
       "aggSchema": [],
       "aggSeriesLimitReached": false,
       "aggType": "",
       "arguments": {},
       "columnCustomDisplayInfos": {},
       "data": [
        [
         "CUSR0000SAF11",
         "2022",
         288.46,
         null,
         null
        ],
        [
         "CUSR0000SAF11",
         "2023",
         302.91,
         288.46,
         5.01
        ],
        [
         "CUSR0000SAF11",
         "2024",
         306.54,
         302.91,
         1.2
        ],
        [
         "CUSR0000SAF11",
         "2025",
         312.34,
         306.54,
         1.89
        ]
       ],
       "datasetInfos": [],
       "dbfsResultPath": null,
       "isJsonSchema": true,
       "metadata": {},
       "overflow": false,
       "plotOptions": {
        "customPlotOptions": {},
        "displayType": "table",
        "pivotAggregation": null,
        "pivotColumns": null,
        "xColumns": null,
        "yColumns": null
       },
       "removedWidgets": [],
       "schema": [
        {
         "metadata": "{}",
         "name": "seriesID",
         "type": "\"string\""
        },
        {
         "metadata": "{}",
         "name": "year",
         "type": "\"string\""
        },
        {
         "metadata": "{}",
         "name": "avg_price",
         "type": "\"double\""
        },
        {
         "metadata": "{}",
         "name": "prev_year_avg",
         "type": "\"double\""
        },
        {
         "metadata": "{}",
         "name": "yoy_growth",
         "type": "\"double\""
        }
       ],
       "type": "table"
      }
     },
     "output_type": "display_data"
    },
    {
     "output_type": "display_data",
     "data": {
      "image/png": "[encoded data removed]",
      "text/plain": [
       "<Figure size 1200x600 with 1 Axes>"
      ]
     },
     "metadata": {},
     "output_type": "display_data"
    },
    {
     "output_type": "display_data",
     "data": {
      "image/png": "[encoded data removed]",
      "text/plain": [
       "<Figure size 1200x600 with 1 Axes>"
      ]
     },
     "metadata": {},
     "output_type": "display_data"
    },
    {
     "output_type": "display_data",
     "data": {
      "image/png": "[encoded data removed]",
      "text/plain": [
       "<Figure size 1200x600 with 1 Axes>"
      ]
     },
     "metadata": {},
     "output_type": "display_data"
    },
    {
     "output_type": "display_data",
     "data": {
      "image/png": "[encoded data removed]",
      "text/plain": [
       "<Figure size 1200x600 with 2 Axes>"
      ]
     },
     "metadata": {},
     "output_type": "display_data"
    }
   ],
   "source": [
    "from pyspark.sql import SparkSession\n",
    "\n",
    "spark = SparkSession.builder.getOrCreate()\n",
    "\n",
    "# Path in Unity Catalog\n",
    "json_path = \"/Volumes/workspace/default/json/bls_20250916T180916Z.json\"\n",
    "\n",
    "# Read JSON\n",
    "df = spark.read.json(json_path)\n",
    "\n",
    "# Preview\n",
    "df.show()\n",
    "df.printSchema()\n",
    "from pyspark.sql.functions import col, concat, lit, to_date, substring\n",
    "\n",
    "# Convert 'M01' -> '01' and create a proper date\n",
    "df_clean = df.withColumn(\n",
    "    \"month\", substring(col(\"period\"), 2, 2)  # remove 'M'\n",
    ").withColumn(\n",
    "    \"date\", to_date(concat(col(\"year\"), lit(\"-\"), col(\"month\"), lit(\"-01\")))\n",
    ").withColumnRenamed(\"value\", \"price\")\n",
    "\n",
    "df_clean.show()\n",
    "from pyspark.sql.window import Window\n",
    "from pyspark.sql.functions import lag, round, col\n",
    "\n",
    "window_spec = Window.partitionBy(\"seriesID\").orderBy(\"date\")\n",
    "\n",
    "df_prices = df_clean.withColumn(\n",
    "    \"prev_price\", lag(\"price\").over(window_spec)\n",
    ").withColumn(\n",
    "    \"pct_change\", round((col(\"price\") - col(\"prev_price\")) / col(\"prev_price\") * 100, 2)\n",
    ")\n",
    "\n",
    "df_prices.show()\n",
    "from pyspark.sql.functions import coalesce, lit\n",
    "\n",
    "df_prices = df_prices.withColumn(\"pct_change\", coalesce(col(\"pct_change\"), lit(0)))\n",
    "df_prices.orderBy(col(\"pct_change\").desc()).show(10)\n",
    "display(df_prices)\n",
    "from pyspark.sql.functions import avg\n",
    "\n",
    "yearly_avg = df_prices.groupBy(\"seriesID\", \"year\").agg(\n",
    "    round(avg(\"price\"), 2).alias(\"avg_price\")\n",
    ").orderBy(\"seriesID\", \"year\")\n",
    "\n",
    "display(yearly_avg)\n",
    "yearly_inflation = df_prices.groupBy(\"seriesID\", \"year\").agg(\n",
    "    round(avg(\"pct_change\"), 2).alias(\"avg_monthly_inflation\")\n",
    ").orderBy(\"year\", \"seriesID\")\n",
    "\n",
    "display(yearly_inflation)\n",
    "from pyspark.sql.window import Window\n",
    "from pyspark.sql.functions import rank\n",
    "\n",
    "window_spec = Window.partitionBy(\"seriesID\", \"year\").orderBy(col(\"pct_change\").desc())\n",
    "\n",
    "top_inflation = df_prices.withColumn(\"rank\", rank().over(window_spec))\\\n",
    "                         .filter(col(\"rank\") <= 3)\n",
    "\n",
    "display(top_inflation)\n",
    "from pyspark.sql.functions import lag\n",
    "\n",
    "df_avg = yearly_avg.withColumn(\"prev_year_avg\", lag(\"avg_price\").over(Window.partitionBy(\"seriesID\").orderBy(\"year\")))\n",
    "df_avg = df_avg.withColumn(\"yoy_growth\", round((col(\"avg_price\") - col(\"prev_year_avg\")) / col(\"prev_year_avg\") * 100, 2))\n",
    "display(df_avg)\n",
    "import matplotlib.pyplot as plt\n",
    "import seaborn as sns\n",
    "import pandas as pd\n",
    "\n",
    "# Convert Spark DF to Pandas for plotting\n",
    "pdf = df_prices.toPandas()\n",
    "\n",
    "plt.figure(figsize=(12,6))\n",
    "sns.lineplot(data=pdf, x='date', y='price', hue='seriesID')\n",
    "plt.title('Monthly Food Price Trend')\n",
    "plt.xlabel('Date')\n",
    "plt.ylabel('Price')\n",
    "plt.xticks(rotation=45)\n",
    "plt.legend(title='Item')\n",
    "plt.show()\n",
    "plt.figure(figsize=(12,6))\n",
    "sns.barplot(data=pdf, x='date', y='pct_change', hue='seriesID')\n",
    "plt.title('Monthly Price Inflation (%)')\n",
    "plt.xlabel('Date')\n",
    "plt.ylabel('% Change')\n",
    "plt.xticks(rotation=45)\n",
    "plt.legend(title='Item')\n",
    "plt.show()\n",
    "top_pdf = top_inflation.toPandas()\n",
    "plt.figure(figsize=(12,6))\n",
    "sns.barplot(data=top_pdf, x='date', y='pct_change', hue='seriesID')\n",
    "plt.title('Top 3 Months With Highest Inflation per Year')\n",
    "plt.xlabel('Month')\n",
    "plt.ylabel('% Change')\n",
    "plt.xticks(rotation=45)\n",
    "plt.show()\n",
    "heatmap_df = pdf.pivot_table(index='year', columns='month', values='pct_change')\n",
    "plt.figure(figsize=(12,6))\n",
    "sns.heatmap(heatmap_df, annot=True, fmt=\".2f\", cmap=\"coolwarm\")\n",
    "plt.title('Monthly Inflation Heatmap')\n",
    "plt.show()\n",
    "\n",
    "\n",
    "\n",
    "\n",
    "\n",
    "\n",
    "\n",
    "\n"
   ]
  }
 ],
 "metadata": {
  "application/vnd.databricks.v1+notebook": {
   "computePreferences": null,
   "dashboards": [],
   "environmentMetadata": {
    "base_environment": "",
    "environment_version": "3"
   },
   "inputWidgetPreferences": null,
   "language": "python",
   "notebookMetadata": {
    "pythonIndentUnit": 4
   },
   "notebookName": "Food_price_Inflation_analysis",
   "widgets": {}
  },
  "language_info": {
   "name": "python"
  }
 },
 "nbformat": 4,
 "nbformat_minor": 0
}